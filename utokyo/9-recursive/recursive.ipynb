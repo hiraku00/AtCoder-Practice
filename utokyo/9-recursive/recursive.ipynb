{
 "cells": [
  {
   "cell_type": "markdown",
   "metadata": {},
   "source": [
    "# 再帰"
   ]
  },
  {
   "cell_type": "markdown",
   "metadata": {},
   "source": [
    "## 再帰関数の例：接頭辞リストと接尾辞リスト"
   ]
  },
  {
   "cell_type": "code",
   "execution_count": 3,
   "metadata": {},
   "outputs": [
    {
     "name": "stdout",
     "output_type": "stream",
     "text": [
      "aabc\n",
      "aab\n",
      "aa\n",
      "a\n",
      "\n"
     ]
    },
    {
     "data": {
      "text/plain": [
       "['aabcc', 'aabc', 'aab', 'aa', 'a']"
      ]
     },
     "execution_count": 3,
     "metadata": {},
     "output_type": "execute_result"
    }
   ],
   "source": [
    "# 入力の文字列の接頭辞リストを返す関数prefixes\n",
    "def prefixes(s):\n",
    "    if s == '':\n",
    "        return []\n",
    "    else:\n",
    "        print(s[:-1])\n",
    "        return [s] + prefixes(s[:-1])\n",
    "\n",
    "prefixes('aabcc')"
   ]
  },
  {
   "cell_type": "code",
   "execution_count": 4,
   "metadata": {},
   "outputs": [
    {
     "name": "stdout",
     "output_type": "stream",
     "text": [
      "abcc\n",
      "bcc\n",
      "cc\n",
      "c\n",
      "\n"
     ]
    },
    {
     "data": {
      "text/plain": [
       "['aabcc', 'abcc', 'bcc', 'cc', 'c']"
      ]
     },
     "execution_count": 4,
     "metadata": {},
     "output_type": "execute_result"
    }
   ],
   "source": [
    "# 入力の文字列の接頭辞リストを返す関数prefixes\n",
    "def suffixes(s):\n",
    "    if s == '':\n",
    "        return []\n",
    "    else:\n",
    "        print(s[1:])\n",
    "        return [s] + suffixes(s[1:])\n",
    "\n",
    "suffixes('aabcc')"
   ]
  },
  {
   "cell_type": "markdown",
   "metadata": {},
   "source": [
    "## 再帰関数の例：べき乗の計算"
   ]
  },
  {
   "cell_type": "code",
   "execution_count": 9,
   "metadata": {},
   "outputs": [
    {
     "data": {
      "text/plain": [
       "1024"
      ]
     },
     "execution_count": 9,
     "metadata": {},
     "output_type": "execute_result"
    }
   ],
   "source": [
    "def power(base, expt):\n",
    "    if expt == 0:\n",
    "        return 1\n",
    "    else:\n",
    "        return base * power(base, expt - 1)\n",
    "\n",
    "power(2, 10)"
   ]
  },
  {
   "cell_type": "code",
   "execution_count": 10,
   "metadata": {},
   "outputs": [
    {
     "data": {
      "text/plain": [
       "1024"
      ]
     },
     "execution_count": 10,
     "metadata": {},
     "output_type": "execute_result"
    }
   ],
   "source": [
    "def power(base, expt):\n",
    "    if expt == 0:\n",
    "        return 1\n",
    "    elif expt % 2 == 0:\n",
    "        return power(base, expt // 2) ** 2 # x**(2m) == (x*x)**m\n",
    "    else:\n",
    "        return base * power(base, expt - 1)\n",
    "\n",
    "power(2, 10)"
   ]
  },
  {
   "cell_type": "markdown",
   "metadata": {},
   "source": [
    "## 再帰関数の例：マージソート"
   ]
  },
  {
   "cell_type": "code",
   "execution_count": 12,
   "metadata": {},
   "outputs": [],
   "source": [
    "# マージソートを行い、比較回数 n を返す\n",
    "def merge_sort_rec(data, l, r, work):\n",
    "    n = 0\n",
    "    if r - l <= 1:\n",
    "        return n\n",
    "    m = l + (r - l) // 2\n",
    "    n1 = merge_sort_rec(data, l, m, work)\n",
    "    n2 = merge_sort_rec(data, m, r, work)\n",
    "    i1 = l\n",
    "    i2 = m\n",
    "    for i in range(l, r):\n",
    "        from1 = False\n",
    "        if i2 >= r:\n",
    "            from1 = True\n",
    "        elif i1 < m:\n",
    "            n = n + 1\n",
    "            if data[i1] <= data[i2]:\n",
    "                from1 = True\n",
    "        if from1:\n",
    "            work[i] = data[i1]\n",
    "            i1 = i1 + 1\n",
    "        else:\n",
    "            work[i] = data[i2]\n",
    "            i2 = i2 + 1\n",
    "    for i in range(l, r):\n",
    "        data[i] = work[i]\n",
    "    return n1 + n2 + n\n",
    "\n",
    "def merge_sort(data):\n",
    "    return merge_sort_rec(data, 0, len(data), [0]*len(data))"
   ]
  },
  {
   "cell_type": "code",
   "execution_count": 16,
   "metadata": {},
   "outputs": [
    {
     "data": {
      "text/plain": [
       "[294,\n",
       " 307,\n",
       " 322,\n",
       " 565,\n",
       " 671,\n",
       " 832,\n",
       " 990,\n",
       " 1024,\n",
       " 1322,\n",
       " 1600,\n",
       " 1616,\n",
       " 1775,\n",
       " 1804,\n",
       " 1831,\n",
       " 1971,\n",
       " 1981,\n",
       " 2046,\n",
       " 2205,\n",
       " 2728,\n",
       " 2734,\n",
       " 2799,\n",
       " 2937,\n",
       " 3056,\n",
       " 3082,\n",
       " 3116,\n",
       " 3206,\n",
       " 3235,\n",
       " 3237,\n",
       " 3247,\n",
       " 3247,\n",
       " 3439,\n",
       " 3559,\n",
       " 3606,\n",
       " 3639,\n",
       " 3651,\n",
       " 3821,\n",
       " 3835,\n",
       " 3908,\n",
       " 4053,\n",
       " 4058,\n",
       " 4092,\n",
       " 4101,\n",
       " 4115,\n",
       " 4178,\n",
       " 4188,\n",
       " 4337,\n",
       " 4354,\n",
       " 4493,\n",
       " 4585,\n",
       " 5116,\n",
       " 5228,\n",
       " 5251,\n",
       " 5363,\n",
       " 5548,\n",
       " 5588,\n",
       " 5615,\n",
       " 5680,\n",
       " 5850,\n",
       " 6035,\n",
       " 6322,\n",
       " 6353,\n",
       " 6370,\n",
       " 6419,\n",
       " 6458,\n",
       " 6481,\n",
       " 6634,\n",
       " 6666,\n",
       " 6680,\n",
       " 6695,\n",
       " 6720,\n",
       " 6761,\n",
       " 6864,\n",
       " 7019,\n",
       " 7066,\n",
       " 7121,\n",
       " 7127,\n",
       " 7151,\n",
       " 7248,\n",
       " 7460,\n",
       " 7468,\n",
       " 7598,\n",
       " 7644,\n",
       " 7674,\n",
       " 7721,\n",
       " 7787,\n",
       " 7996,\n",
       " 8025,\n",
       " 8214,\n",
       " 8356,\n",
       " 8391,\n",
       " 8934,\n",
       " 8944,\n",
       " 9087,\n",
       " 9135,\n",
       " 9163,\n",
       " 9212,\n",
       " 9225,\n",
       " 9260,\n",
       " 9716,\n",
       " 9798]"
      ]
     },
     "execution_count": 16,
     "metadata": {},
     "output_type": "execute_result"
    }
   ],
   "source": [
    "import random\n",
    "a = [random.randint(1,10000) for i in range(100)]\n",
    "merge_sort(a)\n",
    "a"
   ]
  },
  {
   "cell_type": "code",
   "execution_count": null,
   "metadata": {},
   "outputs": [],
   "source": []
  }
 ],
 "metadata": {
  "kernelspec": {
   "display_name": "Python 3",
   "language": "python",
   "name": "python3"
  },
  "language_info": {
   "codemirror_mode": {
    "name": "ipython",
    "version": 3
   },
   "file_extension": ".py",
   "mimetype": "text/x-python",
   "name": "python",
   "nbconvert_exporter": "python",
   "pygments_lexer": "ipython3",
   "version": "3.11.11"
  }
 },
 "nbformat": 4,
 "nbformat_minor": 2
}
